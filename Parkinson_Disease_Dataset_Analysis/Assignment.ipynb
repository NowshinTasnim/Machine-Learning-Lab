{
 "cells": [
  {
   "cell_type": "markdown",
   "metadata": {},
   "source": [
    "# Getting Number of Components"
   ]
  },
  {
   "cell_type": "code",
   "execution_count": 1,
   "metadata": {
    "collapsed": true
   },
   "outputs": [],
   "source": [
    "import pandas as pd\n",
    "import matplotlib.pyplot as plt"
   ]
  },
  {
   "cell_type": "code",
   "execution_count": 2,
   "metadata": {
    "collapsed": true
   },
   "outputs": [],
   "source": [
    "train_df = pd.read_csv(\"training_data.txt\")"
   ]
  },
  {
   "cell_type": "code",
   "execution_count": 3,
   "metadata": {
    "collapsed": true
   },
   "outputs": [],
   "source": [
    "train_label_df = pd.read_csv(\"training_labels.txt\")"
   ]
  },
  {
   "cell_type": "code",
   "execution_count": 4,
   "metadata": {
    "collapsed": true
   },
   "outputs": [],
   "source": [
    "test_df = pd.read_csv(\"testing_data.txt\")"
   ]
  },
  {
   "cell_type": "code",
   "execution_count": 5,
   "metadata": {
    "collapsed": true
   },
   "outputs": [],
   "source": [
    "test_label_df = pd.read_csv(\"testing_labels.txt\")"
   ]
  },
  {
   "cell_type": "code",
   "execution_count": 6,
   "metadata": {
    "collapsed": true
   },
   "outputs": [],
   "source": [
    "X_train = train_df.iloc[:,:22].values"
   ]
  },
  {
   "cell_type": "code",
   "execution_count": 7,
   "metadata": {
    "collapsed": true
   },
   "outputs": [],
   "source": [
    "y_train = train_label_df.iloc[:].values\n",
    "y_train = y_train.reshape(155)"
   ]
  },
  {
   "cell_type": "code",
   "execution_count": 8,
   "metadata": {
    "collapsed": true
   },
   "outputs": [],
   "source": [
    "X_test = test_df.iloc[:,:22].values"
   ]
  },
  {
   "cell_type": "code",
   "execution_count": 9,
   "metadata": {
    "collapsed": true
   },
   "outputs": [],
   "source": [
    "y_test = test_label_df.iloc[:].values\n",
    "y_test = y_test.reshape(40)"
   ]
  },
  {
   "cell_type": "code",
   "execution_count": 10,
   "metadata": {
    "collapsed": true
   },
   "outputs": [],
   "source": [
    "from sklearn.preprocessing import StandardScaler\n",
    "from sklearn.decomposition import PCA\n",
    "from sklearn.linear_model import LogisticRegression\n",
    "from sklearn.pipeline import Pipeline"
   ]
  },
  {
   "cell_type": "code",
   "execution_count": 11,
   "metadata": {
    "collapsed": true
   },
   "outputs": [],
   "source": [
    "graph_X = []\n",
    "graph_Y = []\n",
    "for i in range(2,22):\n",
    "    logistic_pipe = Pipeline([('scl', StandardScaler()),('pca', PCA(n_components=i)),('clf',LogisticRegression(random_state=1))])\n",
    "    logistic_pipe.fit(X_train,y_train)\n",
    "    graph_X.append(i)\n",
    "    graph_Y.append(logistic_pipe.score(X_test,y_test))"
   ]
  },
  {
   "cell_type": "code",
   "execution_count": 12,
   "metadata": {},
   "outputs": [
    {
     "data": {
      "image/png": "[encoded data removed]",
      "text/plain": [
       "<matplotlib.figure.Figure at 0x1dcbfc965f8>"
      ]
     },
     "metadata": {},
     "output_type": "display_data"
    }
   ],
   "source": [
    "plt.xticks(graph_X)\n",
    "plt.xlabel(\"Number of components\")\n",
    "plt.ylabel(\"Accuracy\")\n",
    "plt.plot(graph_X,graph_Y)\n",
    "plt.show()"
   ]
  },
  {
   "cell_type": "markdown",
   "metadata": {
    "collapsed": true
   },
   "source": [
    "# With K-Fold"
   ]
  },
  {
   "cell_type": "code",
   "execution_count": 13,
   "metadata": {
    "collapsed": true
   },
   "outputs": [],
   "source": [
    "import numpy as np"
   ]
  },
  {
   "cell_type": "code",
   "execution_count": 17,
   "metadata": {},
   "outputs": [],
   "source": [
    "from sklearn.cross_validation import StratifiedKFold"
   ]
  },
  {
   "cell_type": "code",
   "execution_count": 18,
   "metadata": {},
   "outputs": [],
   "source": [
    "kfold = StratifiedKFold(y=y_train.reshape(155),n_folds=5,random_state=1)"
   ]
  },
  {
   "cell_type": "code",
   "execution_count": 19,
   "metadata": {
    "collapsed": true
   },
   "outputs": [],
   "source": [
    "scores = []"
   ]
  },
  {
   "cell_type": "code",
   "execution_count": 20,
   "metadata": {
    "collapsed": true
   },
   "outputs": [],
   "source": [
    "logistic_pipe_kfold = Pipeline([('scl', StandardScaler()),('pca', PCA(n_components=5)),('clf',LogisticRegression(random_state=1))])"
   ]
  },
  {
   "cell_type": "code",
   "execution_count": 21,
   "metadata": {
    "collapsed": true
   },
   "outputs": [],
   "source": [
    "for k, (train, test) in enumerate(kfold):\n",
    "    logistic_pipe_kfold.fit(X_train[train], y_train[train])\n",
    "    score = logistic_pipe_kfold.score(X_train[test], y_train[test])\n",
    "    scores.append(score)"
   ]
  },
  {
   "cell_type": "code",
   "execution_count": 22,
   "metadata": {},
   "outputs": [
    {
     "name": "stdout",
     "output_type": "stream",
     "text": [
      "1: 0.875\n",
      "2: 0.774\n",
      "3: 0.935\n",
      "4: 0.806\n",
      "5: 0.800\n"
     ]
    }
   ],
   "source": [
    "for i,score in enumerate(scores):\n",
    "    print(\"%s: %.3f\" %(i+1,score))"
   ]
  },
  {
   "cell_type": "code",
   "execution_count": 23,
   "metadata": {},
   "outputs": [
    {
     "data": {
      "text/plain": [
       "0.83822580645161282"
      ]
     },
     "execution_count": 23,
     "metadata": {},
     "output_type": "execute_result"
    }
   ],
   "source": [
    "np.mean(scores)"
   ]
  },
  {
   "cell_type": "code",
   "execution_count": 24,
   "metadata": {},
   "outputs": [
    {
     "data": {
      "text/plain": [
       "0.058961706474499317"
      ]
     },
     "execution_count": 24,
     "metadata": {},
     "output_type": "execute_result"
    }
   ],
   "source": [
    "np.std(scores)"
   ]
  },
  {
   "cell_type": "markdown",
   "metadata": {},
   "source": [
    "# With SVM"
   ]
  },
  {
   "cell_type": "code",
   "execution_count": 25,
   "metadata": {},
   "outputs": [
    {
     "name": "stderr",
     "output_type": "stream",
     "text": [
      "D:\\Anaconda\\lib\\site-packages\\sklearn\\grid_search.py:42: DeprecationWarning: This module was deprecated in version 0.18 in favor of the model_selection module into which all the refactored classes and functions are moved. This module will be removed in 0.20.\n",
      "  DeprecationWarning)\n"
     ]
    }
   ],
   "source": [
    "from sklearn.grid_search import GridSearchCV"
   ]
  },
  {
   "cell_type": "code",
   "execution_count": 26,
   "metadata": {
    "collapsed": true
   },
   "outputs": [],
   "source": [
    "from sklearn.svm import SVC"
   ]
  },
  {
   "cell_type": "code",
   "execution_count": 27,
   "metadata": {
    "collapsed": true
   },
   "outputs": [],
   "source": [
    "pipe_svc = Pipeline([('scl',StandardScaler()),('clf',SVC(random_state=1))])"
   ]
  },
  {
   "cell_type": "code",
   "execution_count": 28,
   "metadata": {
    "collapsed": true
   },
   "outputs": [],
   "source": [
    "param_range = [0.0001, 0.001, 0.01, 0.1, 1.0, 10.0, 100.0, 1000.0]"
   ]
  },
  {
   "cell_type": "code",
   "execution_count": 29,
   "metadata": {
    "collapsed": true
   },
   "outputs": [],
   "source": [
    "param_grid = [{'clf__C':param_range,'clf__kernel':['linear']},{'clf__C':param_range,'clf__gamma':param_range,'clf__kernel':['rbf']}]"
   ]
  },
  {
   "cell_type": "code",
   "execution_count": 30,
   "metadata": {
    "collapsed": true
   },
   "outputs": [],
   "source": [
    "gs = GridSearchCV(estimator=pipe_svc, param_grid=param_grid, scoring='accuracy', cv=5, n_jobs=-1)"
   ]
  },
  {
   "cell_type": "code",
   "execution_count": 31,
   "metadata": {
    "collapsed": true
   },
   "outputs": [],
   "source": [
    "svm_gs = gs.fit(X_train,y_train)"
   ]
  },
  {
   "cell_type": "code",
   "execution_count": 32,
   "metadata": {},
   "outputs": [
    {
     "data": {
      "text/plain": [
       "0.9354838709677419"
      ]
     },
     "execution_count": 32,
     "metadata": {},
     "output_type": "execute_result"
    }
   ],
   "source": [
    "svm_gs.best_score_"
   ]
  },
  {
   "cell_type": "code",
   "execution_count": 33,
   "metadata": {},
   "outputs": [
    {
     "data": {
      "text/plain": [
       "{'clf__C': 10.0, 'clf__gamma': 0.1, 'clf__kernel': 'rbf'}"
      ]
     },
     "execution_count": 33,
     "metadata": {},
     "output_type": "execute_result"
    }
   ],
   "source": [
    "svm_gs.best_params_"
   ]
  },
  {
   "cell_type": "code",
   "execution_count": 34,
   "metadata": {},
   "outputs": [
    {
     "data": {
      "text/plain": [
       "0.94999999999999996"
      ]
     },
     "execution_count": 34,
     "metadata": {},
     "output_type": "execute_result"
    }
   ],
   "source": [
    "svm_gs.score(X_test,y_test)"
   ]
  },
  {
   "cell_type": "code",
   "execution_count": 35,
   "metadata": {
    "collapsed": true
   },
   "outputs": [],
   "source": [
    "from sklearn.metrics import confusion_matrix"
   ]
  },
  {
   "cell_type": "code",
   "execution_count": 36,
   "metadata": {
    "collapsed": true
   },
   "outputs": [],
   "source": [
    "y_pred = svm_gs.predict(X_test)"
   ]
  },
  {
   "cell_type": "code",
   "execution_count": 37,
   "metadata": {
    "collapsed": true
   },
   "outputs": [],
   "source": [
    "confmat = confusion_matrix(y_true=y_test, y_pred=y_pred)"
   ]
  },
  {
   "cell_type": "code",
   "execution_count": 38,
   "metadata": {
    "collapsed": true
   },
   "outputs": [],
   "source": [
    "import seaborn as sns"
   ]
  },
  {
   "cell_type": "code",
   "execution_count": 39,
   "metadata": {
    "collapsed": true
   },
   "outputs": [],
   "source": [
    "ax = sns.heatmap(confmat,annot=True)"
   ]
  },
  {
   "cell_type": "code",
   "execution_count": 40,
   "metadata": {},
   "outputs": [
    {
     "data": {
      "image/png": "[encoded data removed]",
      "text/plain": [
       "<matplotlib.figure.Figure at 0x1dcc13fc0b8>"
      ]
     },
     "metadata": {},
     "output_type": "display_data"
    }
   ],
   "source": [
    "plt.show()"
   ]
  },
  {
   "cell_type": "markdown",
   "metadata": {},
   "source": [
    "# DecisionTree"
   ]
  },
  {
   "cell_type": "code",
   "execution_count": 87,
   "metadata": {
    "collapsed": true
   },
   "outputs": [],
   "source": [
    "from sklearn.tree import DecisionTreeClassifier"
   ]
  },
  {
   "cell_type": "code",
   "execution_count": 89,
   "metadata": {
    "collapsed": true
   },
   "outputs": [],
   "source": [
    "dtree_gs = GridSearchCV(estimator=DecisionTreeClassifier(random_state=0),param_grid=[{'max_depth': [1,2,3,4,5,6,7,None]}],scoring='accuracy',cv=5,n_jobs=-1)"
   ]
  },
  {
   "cell_type": "code",
   "execution_count": 90,
   "metadata": {
    "collapsed": true
   },
   "outputs": [],
   "source": [
    "from sklearn.cross_validation import cross_val_score"
   ]
  },
  {
   "cell_type": "code",
   "execution_count": 91,
   "metadata": {
    "collapsed": true
   },
   "outputs": [],
   "source": [
    "scores = cross_val_score(dtree_gs,X_train,y_train,scoring='accuracy',cv=5)"
   ]
  },
  {
   "cell_type": "code",
   "execution_count": 93,
   "metadata": {},
   "outputs": [
    {
     "name": "stdout",
     "output_type": "stream",
     "text": [
      "[ 0.78125     0.77419355  0.90322581  0.77419355  0.8       ]\n"
     ]
    }
   ],
   "source": [
    "print(scores)"
   ]
  },
  {
   "cell_type": "code",
   "execution_count": 94,
   "metadata": {},
   "outputs": [
    {
     "data": {
      "text/plain": [
       "(0.80657258064516113, 0.049240392820525579)"
      ]
     },
     "execution_count": 94,
     "metadata": {},
     "output_type": "execute_result"
    }
   ],
   "source": [
    "np.mean(scores), np.std(scores)"
   ]
  },
  {
   "cell_type": "code",
   "execution_count": 96,
   "metadata": {},
   "outputs": [
    {
     "data": {
      "text/plain": [
       "GridSearchCV(cv=5, error_score='raise',\n",
       "       estimator=DecisionTreeClassifier(class_weight=None, criterion='gini', max_depth=None,\n",
       "            max_features=None, max_leaf_nodes=None,\n",
       "            min_impurity_decrease=0.0, min_impurity_split=None,\n",
       "            min_samples_leaf=1, min_samples_split=2,\n",
       "            min_weight_fraction_leaf=0.0, presort=False, random_state=0,\n",
       "            splitter='best'),\n",
       "       fit_params={}, iid=True, n_jobs=-1,\n",
       "       param_grid=[{'max_depth': [1, 2, 3, 4, 5, 6, 7, None]}],\n",
       "       pre_dispatch='2*n_jobs', refit=True, scoring='accuracy', verbose=0)"
      ]
     },
     "execution_count": 96,
     "metadata": {},
     "output_type": "execute_result"
    }
   ],
   "source": [
    "dtree_gs.fit(X_train,y_train)"
   ]
  },
  {
   "cell_type": "code",
   "execution_count": 97,
   "metadata": {},
   "outputs": [
    {
     "data": {
      "text/plain": [
       "{'max_depth': 3}"
      ]
     },
     "execution_count": 97,
     "metadata": {},
     "output_type": "execute_result"
    }
   ],
   "source": [
    "dtree_gs.best_params_"
   ]
  },
  {
   "cell_type": "code",
   "execution_count": 98,
   "metadata": {},
   "outputs": [
    {
     "data": {
      "text/plain": [
       "0.875"
      ]
     },
     "execution_count": 98,
     "metadata": {},
     "output_type": "execute_result"
    }
   ],
   "source": [
    "dtree_gs.score(X_test,y_test)"
   ]
  },
  {
   "cell_type": "code",
   "execution_count": 99,
   "metadata": {
    "collapsed": true
   },
   "outputs": [],
   "source": [
    "from sklearn.metrics import confusion_matrix"
   ]
  },
  {
   "cell_type": "code",
   "execution_count": 100,
   "metadata": {
    "collapsed": true
   },
   "outputs": [],
   "source": [
    "y_pred = dtree_gs.predict(X_test)"
   ]
  },
  {
   "cell_type": "code",
   "execution_count": 101,
   "metadata": {
    "collapsed": true
   },
   "outputs": [],
   "source": [
    "confmat = confusion_matrix(y_true=y_test, y_pred=y_pred)"
   ]
  },
  {
   "cell_type": "code",
   "execution_count": 102,
   "metadata": {},
   "outputs": [
    {
     "data": {
      "text/plain": [
       "array([[ 7,  2],\n",
       "       [ 3, 28]], dtype=int64)"
      ]
     },
     "execution_count": 102,
     "metadata": {},
     "output_type": "execute_result"
    }
   ],
   "source": [
    "confmat"
   ]
  },
  {
   "cell_type": "code",
   "execution_count": 103,
   "metadata": {
    "collapsed": true
   },
   "outputs": [],
   "source": [
    "import seaborn as sns"
   ]
  },
  {
   "cell_type": "code",
   "execution_count": 104,
   "metadata": {
    "collapsed": true
   },
   "outputs": [],
   "source": [
    "sns.set()"
   ]
  },
  {
   "cell_type": "code",
   "execution_count": 108,
   "metadata": {
    "collapsed": true
   },
   "outputs": [],
   "source": [
    "ax = sns.heatmap(confmat, annot=True)"
   ]
  },
  {
   "cell_type": "code",
   "execution_count": 110,
   "metadata": {},
   "outputs": [
    {
     "data": {
      "image/png": "[encoded data removed]",
      "text/plain": [
       "<matplotlib.figure.Figure at 0x2018cede6d8>"
      ]
     },
     "metadata": {},
     "output_type": "display_data"
    }
   ],
   "source": [
    "plt.show()"
   ]
  },
  {
   "cell_type": "markdown",
   "metadata": {
    "collapsed": true
   },
   "source": [
    "# KNN"
   ]
  },
  {
   "cell_type": "code",
   "execution_count": 41,
   "metadata": {
    "collapsed": true
   },
   "outputs": [],
   "source": [
    "from sklearn.neighbors import KNeighborsClassifier"
   ]
  },
  {
   "cell_type": "code",
   "execution_count": 49,
   "metadata": {
    "collapsed": true
   },
   "outputs": [],
   "source": [
    "pipe_knn = Pipeline([('scl',StandardScaler()),('clf',KNeighborsClassifier())])"
   ]
  },
  {
   "cell_type": "code",
   "execution_count": 50,
   "metadata": {
    "collapsed": true
   },
   "outputs": [],
   "source": [
    "param_grid = [{'clf__n_neighbors':[3,4,5,6,7,8,9,10],'clf__p':[1,2]}]"
   ]
  },
  {
   "cell_type": "code",
   "execution_count": 51,
   "metadata": {
    "collapsed": true
   },
   "outputs": [],
   "source": [
    "gs_knn = GridSearchCV(estimator=pipe_knn, param_grid=param_grid, scoring='accuracy', cv=5, n_jobs=-1)"
   ]
  },
  {
   "cell_type": "code",
   "execution_count": 52,
   "metadata": {},
   "outputs": [
    {
     "data": {
      "text/plain": [
       "GridSearchCV(cv=5, error_score='raise',\n",
       "       estimator=Pipeline(memory=None,\n",
       "     steps=[('scl', StandardScaler(copy=True, with_mean=True, with_std=True)), ('clf', KNeighborsClassifier(algorithm='auto', leaf_size=30, metric='minkowski',\n",
       "           metric_params=None, n_jobs=1, n_neighbors=5, p=2,\n",
       "           weights='uniform'))]),\n",
       "       fit_params={}, iid=True, n_jobs=-1,\n",
       "       param_grid=[{'clf__n_neighbors': [3, 4, 5, 6, 7, 8, 9, 10], 'clf__p': [1, 2]}],\n",
       "       pre_dispatch='2*n_jobs', refit=True, scoring='accuracy', verbose=0)"
      ]
     },
     "execution_count": 52,
     "metadata": {},
     "output_type": "execute_result"
    }
   ],
   "source": [
    "gs_knn.fit(X_train,y_train)"
   ]
  },
  {
   "cell_type": "code",
   "execution_count": 53,
   "metadata": {},
   "outputs": [
    {
     "data": {
      "text/plain": [
       "{'clf__n_neighbors': 5, 'clf__p': 1}"
      ]
     },
     "execution_count": 53,
     "metadata": {},
     "output_type": "execute_result"
    }
   ],
   "source": [
    "gs_knn.best_params_"
   ]
  },
  {
   "cell_type": "code",
   "execution_count": 54,
   "metadata": {},
   "outputs": [
    {
     "data": {
      "text/plain": [
       "0.9290322580645162"
      ]
     },
     "execution_count": 54,
     "metadata": {},
     "output_type": "execute_result"
    }
   ],
   "source": [
    "gs_knn.best_score_"
   ]
  },
  {
   "cell_type": "code",
   "execution_count": 55,
   "metadata": {
    "collapsed": true
   },
   "outputs": [],
   "source": [
    "y_pred = gs_knn.predict(X_test)"
   ]
  },
  {
   "cell_type": "code",
   "execution_count": 56,
   "metadata": {
    "collapsed": true
   },
   "outputs": [],
   "source": [
    "confmat = confusion_matrix(y_true=y_test, y_pred=y_pred)"
   ]
  },
  {
   "cell_type": "code",
   "execution_count": 57,
   "metadata": {
    "collapsed": true
   },
   "outputs": [],
   "source": [
    "ax = sns.heatmap(confmat, annot=True)"
   ]
  },
  {
   "cell_type": "code",
   "execution_count": 58,
   "metadata": {},
   "outputs": [
    {
     "data": {
      "image/png": "[encoded data removed]",
      "text/plain": [
       "<matplotlib.figure.Figure at 0x1dcc113d0b8>"
      ]
     },
     "metadata": {},
     "output_type": "display_data"
    }
   ],
   "source": [
    "plt.show()"
   ]
  },
  {
   "cell_type": "code",
   "execution_count": 59,
   "metadata": {},
   "outputs": [
    {
     "data": {
      "text/plain": [
       "0.90000000000000002"
      ]
     },
     "execution_count": 59,
     "metadata": {},
     "output_type": "execute_result"
    }
   ],
   "source": [
    "gs_knn.score(X_test,y_test)"
   ]
  },
  {
   "cell_type": "markdown",
   "metadata": {},
   "source": [
    "# ANN"
   ]
  },
  {
   "cell_type": "code",
   "execution_count": 60,
   "metadata": {
    "collapsed": true
   },
   "outputs": [],
   "source": [
    "from keras.models import Sequentialuential"
   ]
  },
  {
   "cell_type": "code",
   "execution_count": 61,
   "metadata": {
    "collapsed": true
   },
   "outputs": [],
   "source": [
    "from keras.layers import Dense"
   ]
  },
  {
   "cell_type": "code",
   "execution_count": 63,
   "metadata": {
    "collapsed": true
   },
   "outputs": [],
   "source": [
    "model = Sequential()\n",
    "model.add(Dense(12,input_dim=22,activation='relu'))\n",
    "model.add(Dense(8,activation='relu'))\n",
    "model.add(Dense(1,activation='sigmoid'))"
   ]
  },
  {
   "cell_type": "code",
   "execution_count": 64,
   "metadata": {
    "collapsed": true
   },
   "outputs": [],
   "source": [
    "model.compile(loss='binary_crossentropy',optimizer='adam',metrics=['accuracy'])"
   ]
  },
  {
   "cell_type": "code",
   "execution_count": 65,
   "metadata": {},
   "outputs": [
    {
     "name": "stdout",
     "output_type": "stream",
     "text": [
      "_________________________________________________________________\n",
      "Layer (type)                 Output Shape              Param #   \n",
      "=================================================================\n",
      "dense_1 (Dense)              (None, 12)                276       \n",
      "_________________________________________________________________\n",
      "dense_2 (Dense)              (None, 8)                 104       \n",
      "_________________________________________________________________\n",
      "dense_3 (Dense)              (None, 1)                 9         \n",
      "=================================================================\n",
      "Total params: 389\n",
      "Trainable params: 389\n",
      "Non-trainable params: 0\n",
      "_________________________________________________________________\n"
     ]
    }
   ],
   "source": [
    "model.summary()"
   ]
  },
  {
   "cell_type": "code",
   "execution_count": 66,
   "metadata": {},
   "outputs": [
    {
     "name": "stdout",
     "output_type": "stream",
     "text": [
      "Epoch 1/100\n",
      "155/155 [==============================] - 1s - loss: 1.6368 - acc: 0.6452      \n",
      "Epoch 2/100\n",
      "155/155 [==============================] - 0s - loss: 1.0997 - acc: 0.5806     \n",
      "Epoch 3/100\n",
      "155/155 [==============================] - 0s - loss: 0.9408 - acc: 0.6645     \n",
      "Epoch 4/100\n",
      "155/155 [==============================] - 0s - loss: 0.9113 - acc: 0.6516     \n",
      "Epoch 5/100\n",
      "155/155 [==============================] - 0s - loss: 0.8491 - acc: 0.6194     \n",
      "Epoch 6/100\n",
      "155/155 [==============================] - 0s - loss: 0.8079 - acc: 0.6452     \n",
      "Epoch 7/100\n",
      "155/155 [==============================] - 0s - loss: 0.7608 - acc: 0.6516     \n",
      "Epoch 8/100\n",
      "155/155 [==============================] - 0s - loss: 0.7288 - acc: 0.6774     \n",
      "Epoch 9/100\n",
      "155/155 [==============================] - 0s - loss: 0.7231 - acc: 0.6323     \n",
      "Epoch 10/100\n",
      "155/155 [==============================] - 0s - loss: 0.6749 - acc: 0.7097     \n",
      "Epoch 11/100\n",
      "155/155 [==============================] - 0s - loss: 0.6772 - acc: 0.6581     \n",
      "Epoch 12/100\n",
      "155/155 [==============================] - 0s - loss: 0.6337 - acc: 0.6839     \n",
      "Epoch 13/100\n",
      "155/155 [==============================] - 0s - loss: 0.6197 - acc: 0.6774     \n",
      "Epoch 14/100\n",
      "155/155 [==============================] - 0s - loss: 0.6220 - acc: 0.7290     \n",
      "Epoch 15/100\n",
      "155/155 [==============================] - 0s - loss: 0.5646 - acc: 0.7290     \n",
      "Epoch 16/100\n",
      "155/155 [==============================] - 0s - loss: 0.5984 - acc: 0.7355     \n",
      "Epoch 17/100\n",
      "155/155 [==============================] - 0s - loss: 0.5869 - acc: 0.7355     \n",
      "Epoch 18/100\n",
      "155/155 [==============================] - 0s - loss: 0.5428 - acc: 0.7290     \n",
      "Epoch 19/100\n",
      "155/155 [==============================] - 0s - loss: 0.5252 - acc: 0.7613     \n",
      "Epoch 20/100\n",
      "155/155 [==============================] - 0s - loss: 0.5904 - acc: 0.7548     \n",
      "Epoch 21/100\n",
      "155/155 [==============================] - 0s - loss: 0.5696 - acc: 0.7290     \n",
      "Epoch 22/100\n",
      "155/155 [==============================] - 0s - loss: 0.5114 - acc: 0.7806     \n",
      "Epoch 23/100\n",
      "155/155 [==============================] - 0s - loss: 0.5391 - acc: 0.7419     \n",
      "Epoch 24/100\n",
      "155/155 [==============================] - 0s - loss: 0.4973 - acc: 0.7742     \n",
      "Epoch 25/100\n",
      "155/155 [==============================] - 0s - loss: 0.4844 - acc: 0.8000     \n",
      "Epoch 26/100\n",
      "155/155 [==============================] - 0s - loss: 0.5000 - acc: 0.7742     \n",
      "Epoch 27/100\n",
      "155/155 [==============================] - 0s - loss: 0.4761 - acc: 0.7871     \n",
      "Epoch 28/100\n",
      "155/155 [==============================] - 0s - loss: 0.4764 - acc: 0.7935     \n",
      "Epoch 29/100\n",
      "155/155 [==============================] - 0s - loss: 0.4700 - acc: 0.7871     \n",
      "Epoch 30/100\n",
      "155/155 [==============================] - 0s - loss: 0.4864 - acc: 0.7677     \n",
      "Epoch 31/100\n",
      "155/155 [==============================] - 0s - loss: 0.4746 - acc: 0.7871     \n",
      "Epoch 32/100\n",
      "155/155 [==============================] - 0s - loss: 0.4510 - acc: 0.8194     \n",
      "Epoch 33/100\n",
      "155/155 [==============================] - 0s - loss: 0.4507 - acc: 0.8194     \n",
      "Epoch 34/100\n",
      "155/155 [==============================] - 0s - loss: 0.4653 - acc: 0.7806     \n",
      "Epoch 35/100\n",
      "155/155 [==============================] - 0s - loss: 0.4497 - acc: 0.7871     \n",
      "Epoch 36/100\n",
      "155/155 [==============================] - 0s - loss: 0.4483 - acc: 0.8387     \n",
      "Epoch 37/100\n",
      "155/155 [==============================] - 0s - loss: 0.4511 - acc: 0.8194     \n",
      "Epoch 38/100\n",
      "155/155 [==============================] - 0s - loss: 0.4910 - acc: 0.7935     \n",
      "Epoch 39/100\n",
      "155/155 [==============================] - 0s - loss: 0.4615 - acc: 0.7935     \n",
      "Epoch 40/100\n",
      "155/155 [==============================] - 0s - loss: 0.4449 - acc: 0.8000     \n",
      "Epoch 41/100\n",
      "155/155 [==============================] - 0s - loss: 0.4393 - acc: 0.8258     \n",
      "Epoch 42/100\n",
      "155/155 [==============================] - 0s - loss: 0.4626 - acc: 0.8194     \n",
      "Epoch 43/100\n",
      "155/155 [==============================] - 0s - loss: 0.4312 - acc: 0.8129     \n",
      "Epoch 44/100\n",
      "155/155 [==============================] - 0s - loss: 0.5281 - acc: 0.7613     \n",
      "Epoch 45/100\n",
      "155/155 [==============================] - 0s - loss: 0.4747 - acc: 0.7871     \n",
      "Epoch 46/100\n",
      "155/155 [==============================] - 0s - loss: 0.4452 - acc: 0.7871     \n",
      "Epoch 47/100\n",
      "155/155 [==============================] - 0s - loss: 0.4282 - acc: 0.8258     \n",
      "Epoch 48/100\n",
      "155/155 [==============================] - 0s - loss: 0.4236 - acc: 0.8323     \n",
      "Epoch 49/100\n",
      "155/155 [==============================] - 0s - loss: 0.4413 - acc: 0.8194     \n",
      "Epoch 50/100\n",
      "155/155 [==============================] - 0s - loss: 0.4215 - acc: 0.8387     \n",
      "Epoch 51/100\n",
      "155/155 [==============================] - 0s - loss: 0.4325 - acc: 0.7871     \n",
      "Epoch 52/100\n",
      "155/155 [==============================] - 0s - loss: 0.4532 - acc: 0.7935     \n",
      "Epoch 53/100\n",
      "155/155 [==============================] - 0s - loss: 0.4310 - acc: 0.7871     \n",
      "Epoch 54/100\n",
      "155/155 [==============================] - 0s - loss: 0.4343 - acc: 0.8000     \n",
      "Epoch 55/100\n",
      "155/155 [==============================] - 0s - loss: 0.4268 - acc: 0.8065     \n",
      "Epoch 56/100\n",
      "155/155 [==============================] - 0s - loss: 0.4368 - acc: 0.8129     \n",
      "Epoch 57/100\n",
      "155/155 [==============================] - 0s - loss: 0.4476 - acc: 0.8065     \n",
      "Epoch 58/100\n",
      "155/155 [==============================] - 0s - loss: 0.4092 - acc: 0.8516     \n",
      "Epoch 59/100\n",
      "155/155 [==============================] - 0s - loss: 0.4235 - acc: 0.8323     \n",
      "Epoch 60/100\n",
      "155/155 [==============================] - 0s - loss: 0.4128 - acc: 0.8387     \n",
      "Epoch 61/100\n",
      "155/155 [==============================] - 0s - loss: 0.4227 - acc: 0.8000     \n",
      "Epoch 62/100\n",
      "155/155 [==============================] - 0s - loss: 0.4247 - acc: 0.8194     \n",
      "Epoch 63/100\n",
      "155/155 [==============================] - 0s - loss: 0.4175 - acc: 0.7935     \n",
      "Epoch 64/100\n",
      "155/155 [==============================] - 0s - loss: 0.4047 - acc: 0.8452     \n",
      "Epoch 65/100\n",
      "155/155 [==============================] - 0s - loss: 0.4327 - acc: 0.8129     \n",
      "Epoch 66/100\n",
      "155/155 [==============================] - 0s - loss: 0.4135 - acc: 0.8323     \n",
      "Epoch 67/100\n",
      "155/155 [==============================] - 0s - loss: 0.4510 - acc: 0.7935     \n",
      "Epoch 68/100\n",
      "155/155 [==============================] - 0s - loss: 0.4372 - acc: 0.8194     \n",
      "Epoch 69/100\n",
      "155/155 [==============================] - 0s - loss: 0.4029 - acc: 0.8452     \n",
      "Epoch 70/100\n",
      "155/155 [==============================] - 0s - loss: 0.4156 - acc: 0.8258     \n",
      "Epoch 71/100\n",
      "155/155 [==============================] - 0s - loss: 0.4144 - acc: 0.8129     \n",
      "Epoch 72/100\n",
      "155/155 [==============================] - 0s - loss: 0.4190 - acc: 0.8194     \n",
      "Epoch 73/100\n",
      "155/155 [==============================] - 0s - loss: 0.4116 - acc: 0.8194     \n",
      "Epoch 74/100\n",
      "155/155 [==============================] - 0s - loss: 0.4109 - acc: 0.8387     \n",
      "Epoch 75/100\n",
      "155/155 [==============================] - 0s - loss: 0.4308 - acc: 0.8129     \n",
      "Epoch 76/100\n",
      "155/155 [==============================] - 0s - loss: 0.4331 - acc: 0.7935     \n",
      "Epoch 77/100\n",
      "155/155 [==============================] - ETA: 0s - loss: 0.2227 - acc: 0.900 - 0s - loss: 0.4309 - acc: 0.8129     \n",
      "Epoch 78/100\n",
      "155/155 [==============================] - 0s - loss: 0.4103 - acc: 0.8194     \n",
      "Epoch 79/100\n",
      "155/155 [==============================] - 0s - loss: 0.4071 - acc: 0.8129     \n",
      "Epoch 80/100\n",
      "155/155 [==============================] - 0s - loss: 0.4104 - acc: 0.8000     \n",
      "Epoch 81/100\n",
      "155/155 [==============================] - 0s - loss: 0.4141 - acc: 0.8258     \n",
      "Epoch 82/100\n",
      "155/155 [==============================] - 0s - loss: 0.3969 - acc: 0.8323     \n",
      "Epoch 83/100\n",
      "155/155 [==============================] - 0s - loss: 0.3965 - acc: 0.8258     \n",
      "Epoch 84/100\n",
      "155/155 [==============================] - 0s - loss: 0.4343 - acc: 0.7935     \n",
      "Epoch 85/100\n",
      "155/155 [==============================] - 0s - loss: 0.4549 - acc: 0.8000     \n",
      "Epoch 86/100\n",
      "155/155 [==============================] - 0s - loss: 0.4093 - acc: 0.8000     \n",
      "Epoch 87/100\n",
      "155/155 [==============================] - 0s - loss: 0.4085 - acc: 0.8129     \n",
      "Epoch 88/100\n"
     ]
    },
    {
     "name": "stdout",
     "output_type": "stream",
     "text": [
      "155/155 [==============================] - 0s - loss: 0.4061 - acc: 0.8194     \n",
      "Epoch 89/100\n",
      "155/155 [==============================] - 0s - loss: 0.4192 - acc: 0.8065     \n",
      "Epoch 90/100\n",
      "155/155 [==============================] - 0s - loss: 0.4003 - acc: 0.8323     \n",
      "Epoch 91/100\n",
      "155/155 [==============================] - 0s - loss: 0.4105 - acc: 0.8000     \n",
      "Epoch 92/100\n",
      "155/155 [==============================] - 0s - loss: 0.4108 - acc: 0.8258     \n",
      "Epoch 93/100\n",
      "155/155 [==============================] - 0s - loss: 0.4138 - acc: 0.8258     \n",
      "Epoch 94/100\n",
      "155/155 [==============================] - 0s - loss: 0.4377 - acc: 0.8129     \n",
      "Epoch 95/100\n",
      "155/155 [==============================] - 0s - loss: 0.3822 - acc: 0.8387     \n",
      "Epoch 96/100\n",
      "155/155 [==============================] - 0s - loss: 0.4039 - acc: 0.8129     \n",
      "Epoch 97/100\n",
      "155/155 [==============================] - 0s - loss: 0.4015 - acc: 0.8258     \n",
      "Epoch 98/100\n",
      "155/155 [==============================] - 0s - loss: 0.4040 - acc: 0.8258     \n",
      "Epoch 99/100\n",
      "155/155 [==============================] - 0s - loss: 0.3914 - acc: 0.8258     \n",
      "Epoch 100/100\n",
      "155/155 [==============================] - 0s - loss: 0.4008 - acc: 0.8258     \n"
     ]
    },
    {
     "data": {
      "text/plain": [
       "<keras.callbacks.History at 0x1dcc5e7b898>"
      ]
     },
     "execution_count": 66,
     "metadata": {},
     "output_type": "execute_result"
    }
   ],
   "source": [
    "model.fit(X_train,y_train, epochs=100, batch_size=10)"
   ]
  },
  {
   "cell_type": "code",
   "execution_count": 68,
   "metadata": {},
   "outputs": [
    {
     "name": "stdout",
     "output_type": "stream",
     "text": [
      "\r",
      "32/40 [=======================>......] - ETA: 0s"
     ]
    }
   ],
   "source": [
    "scores = model.evaluate(X_test,y_test)"
   ]
  },
  {
   "cell_type": "code",
   "execution_count": 69,
   "metadata": {},
   "outputs": [
    {
     "data": {
      "text/plain": [
       "0.82499999999999996"
      ]
     },
     "execution_count": 69,
     "metadata": {},
     "output_type": "execute_result"
    }
   ],
   "source": [
    "scores[1]"
   ]
  },
  {
   "cell_type": "code",
   "execution_count": 71,
   "metadata": {},
   "outputs": [],
   "source": [
    "y_pred = model.predict(X_test)"
   ]
  },
  {
   "cell_type": "code",
   "execution_count": 78,
   "metadata": {},
   "outputs": [],
   "source": [
    "y_pred = [round(y[0]) for y in y_pred]"
   ]
  },
  {
   "cell_type": "code",
   "execution_count": 80,
   "metadata": {},
   "outputs": [],
   "source": [
    "confmat = confusion_matrix(y_true=y_test, y_pred=y_pred)"
   ]
  },
  {
   "cell_type": "code",
   "execution_count": 81,
   "metadata": {
    "collapsed": true
   },
   "outputs": [],
   "source": [
    "ax = sns.heatmap(confmat, annot=True)"
   ]
  },
  {
   "cell_type": "code",
   "execution_count": 82,
   "metadata": {},
   "outputs": [
    {
     "data": {
      "image/png": "[encoded data removed]",
      "text/plain": [
       "<matplotlib.figure.Figure at 0x1dcc60511d0>"
      ]
     },
     "metadata": {},
     "output_type": "display_data"
    }
   ],
   "source": [
    "plt.show()"
   ]
  },
  {
   "cell_type": "code",
   "execution_count": null,
   "metadata": {
    "collapsed": true
   },
   "outputs": [],
   "source": []
  }
 ],
 "metadata": {
  "kernelspec": {
   "display_name": "Python 3",
   "language": "python",
   "name": "python3"
  },
  "language_info": {
   "codemirror_mode": {
    "name": "ipython",
    "version": 3
   },
   "file_extension": ".py",
   "mimetype": "text/x-python",
   "name": "python",
   "nbconvert_exporter": "python",
   "pygments_lexer": "ipython3",
   "version": "3.6.1"
  }
 },
 "nbformat": 4,
 "nbformat_minor": 2
}
